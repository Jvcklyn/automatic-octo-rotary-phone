{
  "cells": [
    {
      "cell_type": "markdown",
      "metadata": {
        "id": "ewCtDCnnS7Qm"
      },
      "source": [
        "Axiom: a statement that is considered to be self-evident.\n",
        "Postulates: not as obviously true as the axiom, but not provable. conforms to axioms that are recognized as practical principles. \n",
        "\n"
      ]
    },
    {
      "cell_type": "code",
      "execution_count": 16,
      "metadata": {
        "colab": {
          "base_uri": "https://localhost:8080/"
        },
        "id": "ua44Lcz1ik67",
        "outputId": "fa719de7-d4a6-4a88-a8f4-b591487ac556"
      },
      "outputs": [
        {
          "name": "stdout",
          "output_type": "stream",
          "text": [
            "0.5 \t:  19.5\n",
            "1 \t:  21.0\n",
            "0.1 \t:  18.300000000000054\n",
            "1e-05 \t:  18.00002999985395\n",
            "0.01 \t:  18.029999999999546\n",
            "0.0001 \t:  18.000300000053926\n",
            "0.001 \t:  18.003000000000213\n"
          ]
        }
      ],
      "source": [
        "#derivative\n",
        "\n",
        "def f1(x):\n",
        "    f1=3*x**2\n",
        "    return f1\n",
        "\n",
        "s=set([1, 0.5, 0.1, 0.01, 0.001, 0.0001, 0.00001])\n",
        "x1=3\n",
        "\n",
        "for delta_x in s:\n",
        "    derivative_of_f1_wrt_x=(f1(x1+delta_x)-f1(x1))/delta_x\n",
        "    print(delta_x,\"\\t: \", derivative_of_f1_wrt_x)"
      ]
    },
    {
      "cell_type": "code",
      "execution_count": 24,
      "metadata": {
        "id": "cUpkgHgajeeR"
      },
      "outputs": [
        {
          "ename": "TypeError",
          "evalue": "must be real number, not str",
          "output_type": "error",
          "traceback": [
            "\u001b[0;31m---------------------------------------------------------------------------\u001b[0m",
            "\u001b[0;31mTypeError\u001b[0m                                 Traceback (most recent call last)",
            "\u001b[1;32m/Users/hlsung/git/snu_practice/ML Practice/Assignment1.ipynb Cell 3'\u001b[0m in \u001b[0;36m<cell line: 5>\u001b[0;34m()\u001b[0m\n\u001b[1;32m      <a href='vscode-notebook-cell:/Users/hlsung/git/snu_practice/ML%20Practice/Assignment1.ipynb#ch0000002?line=0'>1</a>\u001b[0m \u001b[39m#Orbit of Mars\u001b[39;00m\n\u001b[1;32m      <a href='vscode-notebook-cell:/Users/hlsung/git/snu_practice/ML%20Practice/Assignment1.ipynb#ch0000002?line=2'>3</a>\u001b[0m \u001b[39mimport\u001b[39;00m \u001b[39mmath\u001b[39;00m\n\u001b[0;32m----> <a href='vscode-notebook-cell:/Users/hlsung/git/snu_practice/ML%20Practice/Assignment1.ipynb#ch0000002?line=4'>5</a>\u001b[0m helio_long\u001b[39m=\u001b[39mmath\u001b[39m.\u001b[39;49mradians(\u001b[39minput\u001b[39;49m(\u001b[39m\"\u001b[39;49m\u001b[39mHeliocentric Longitude 1: \u001b[39;49m\u001b[39m\"\u001b[39;49m))\n\u001b[1;32m      <a href='vscode-notebook-cell:/Users/hlsung/git/snu_practice/ML%20Practice/Assignment1.ipynb#ch0000002?line=5'>6</a>\u001b[0m geo_long\u001b[39m=\u001b[39mmath\u001b[39m.\u001b[39mradians(\u001b[39minput\u001b[39m(\u001b[39m\"\u001b[39m\u001b[39mGeocentric Longitude 1: \u001b[39m\u001b[39m\"\u001b[39m))\n\u001b[1;32m      <a href='vscode-notebook-cell:/Users/hlsung/git/snu_practice/ML%20Practice/Assignment1.ipynb#ch0000002?line=7'>8</a>\u001b[0m helio_long2\u001b[39m=\u001b[39mmath\u001b[39m.\u001b[39mradians(\u001b[39minput\u001b[39m(\u001b[39m\"\u001b[39m\u001b[39mHeliocentric Longitude 2: \u001b[39m\u001b[39m\"\u001b[39m))\n",
            "\u001b[0;31mTypeError\u001b[0m: must be real number, not str"
          ]
        }
      ],
      "source": [
        "#Orbit of Mars\n",
        "\n",
        "import math\n",
        "\n",
        "helio_long=math.radians(input(\"Heliocentric Longitude 1: \"))\n",
        "geo_long=math.radians(input(\"Geocentric Longitude 1: \"))\n",
        "\n",
        "helio_long2=math.radians(input(\"Heliocentric Longitude 2: \"))\n",
        "geo_long2=math.radians(input(\"Geocentric Longitude 2: \"))\n",
        "\n",
        "x_mars=(math.sin(helio_long2)-math.sin(helio_long)+(math.tan(geo_long)*math.cos(helio_long)-math.tan(geo_long2)*math.cos(helio_long2)))\n",
        "y_mars=math.tan(geo_long)*x_mars+math.sin(helio_long)-math.tan(geo_long)*math.cos(geo_long)\n",
        "r_mars=math.sqrt(x_mars^2+y_mars^2)\n",
        "t_mars=math.atan(y_mars/x_mars)\n",
        "\n",
        "\n"
      ]
    }
  ],
  "metadata": {
    "colab": {
      "collapsed_sections": [],
      "name": "Assignment1",
      "provenance": []
    },
    "kernelspec": {
      "display_name": "Python 3",
      "name": "python3"
    },
    "language_info": {
      "codemirror_mode": {
        "name": "ipython",
        "version": 3
      },
      "file_extension": ".py",
      "mimetype": "text/x-python",
      "name": "python",
      "nbconvert_exporter": "python",
      "pygments_lexer": "ipython3",
      "version": "3.10.2"
    }
  },
  "nbformat": 4,
  "nbformat_minor": 0
}
