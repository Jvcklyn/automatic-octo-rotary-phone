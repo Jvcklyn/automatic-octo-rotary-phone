{
  "cells": [
    {
      "cell_type": "markdown",
      "metadata": {
        "id": "ewCtDCnnS7Qm"
      },
      "source": [
        "Axiom: a statement that is considered to be self-evident.\n",
        "Postulates: not as obviously true as the axiom, but not provable. conforms to axioms that are recognized as practical principles. \n",
        "\n"
      ]
    },
    {
      "cell_type": "code",
      "execution_count": null,
      "metadata": {
        "colab": {
          "base_uri": "https://localhost:8080/"
        },
        "id": "ua44Lcz1ik67",
        "outputId": "fa719de7-d4a6-4a88-a8f4-b591487ac556"
      },
      "outputs": [
        {
          "name": "stdout",
          "output_type": "stream",
          "text": [
            "0.5 \t:  19.5\n",
            "1 \t:  21.0\n",
            "0.1 \t:  18.300000000000054\n",
            "1e-05 \t:  18.00002999985395\n",
            "0.01 \t:  18.029999999999546\n",
            "0.0001 \t:  18.000300000053926\n",
            "0.001 \t:  18.003000000000213\n"
          ]
        }
      ],
      "source": [
        "#derivative\n",
        "\n",
        "def f1(x):\n",
        "    f1=3*x**2\n",
        "    return f1\n",
        "\n",
        "s=set([1, 0.5, 0.1, 0.01, 0.001, 0.0001, 0.00001])\n",
        "x1=3\n",
        "\n",
        "for delta_x in s:\n",
        "    derivative_of_f1_wrt_x=(f1(x1+delta_x)-f1(x1))/delta_x\n",
        "    print(delta_x,\"\\t: \", derivative_of_f1_wrt_x)"
      ]
    },
    {
      "cell_type": "code",
      "execution_count": null,
      "metadata": {
        "id": "cUpkgHgajeeR"
      },
      "outputs": [],
      "source": [
        "# Scatter Plot"
      ]
    }
  ],
  "metadata": {
    "colab": {
      "collapsed_sections": [],
      "name": "Assignment1",
      "provenance": []
    },
    "kernelspec": {
      "display_name": "Python 3",
      "name": "python3"
    },
    "language_info": {
      "name": "python"
    }
  },
  "nbformat": 4,
  "nbformat_minor": 0
}
