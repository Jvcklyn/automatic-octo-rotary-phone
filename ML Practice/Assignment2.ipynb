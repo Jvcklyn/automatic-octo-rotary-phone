{
  "nbformat": 4,
  "nbformat_minor": 0,
  "metadata": {
    "colab": {
      "name": "Assignment2",
      "provenance": [],
      "collapsed_sections": []
    },
    "kernelspec": {
      "name": "python3",
      "display_name": "Python 3"
    },
    "language_info": {
      "name": "python"
    }
  },
  "cells": [
    {
      "cell_type": "code",
      "source": [
        "#matplotlib, seaborn 한글 깨짐 수정\n",
        "!sudo apt-get install -y fonts-nanum\n",
        "!sudo fc-cache -fv\n",
        "!rm ~/.cache/matplotlib -rf\n",
        "#plt.rc('font', family='NanumBarunGothic') "
      ],
      "metadata": {
        "colab": {
          "base_uri": "https://localhost:8080/"
        },
        "id": "Llwr7FXsgLqd",
        "outputId": "432accba-a8cf-4f98-ec3b-4a708c9f0619"
      },
      "execution_count": null,
      "outputs": [
        {
          "output_type": "stream",
          "name": "stdout",
          "text": [
            "Reading package lists... Done\n",
            "Building dependency tree       \n",
            "Reading state information... Done\n",
            "The following NEW packages will be installed:\n",
            "  fonts-nanum\n",
            "0 upgraded, 1 newly installed, 0 to remove and 39 not upgraded.\n",
            "Need to get 9,604 kB of archives.\n",
            "After this operation, 29.5 MB of additional disk space will be used.\n",
            "Get:1 http://archive.ubuntu.com/ubuntu bionic/universe amd64 fonts-nanum all 20170925-1 [9,604 kB]\n",
            "Fetched 9,604 kB in 1s (8,398 kB/s)\n",
            "debconf: unable to initialize frontend: Dialog\n",
            "debconf: (No usable dialog-like program is installed, so the dialog based frontend cannot be used. at /usr/share/perl5/Debconf/FrontEnd/Dialog.pm line 76, <> line 1.)\n",
            "debconf: falling back to frontend: Readline\n",
            "debconf: unable to initialize frontend: Readline\n",
            "debconf: (This frontend requires a controlling tty.)\n",
            "debconf: falling back to frontend: Teletype\n",
            "dpkg-preconfigure: unable to re-open stdin: \n",
            "Selecting previously unselected package fonts-nanum.\n",
            "(Reading database ... 155335 files and directories currently installed.)\n",
            "Preparing to unpack .../fonts-nanum_20170925-1_all.deb ...\n",
            "Unpacking fonts-nanum (20170925-1) ...\n",
            "Setting up fonts-nanum (20170925-1) ...\n",
            "Processing triggers for fontconfig (2.12.6-0ubuntu2) ...\n",
            "/usr/share/fonts: caching, new cache contents: 0 fonts, 1 dirs\n",
            "/usr/share/fonts/truetype: caching, new cache contents: 0 fonts, 3 dirs\n",
            "/usr/share/fonts/truetype/humor-sans: caching, new cache contents: 1 fonts, 0 dirs\n",
            "/usr/share/fonts/truetype/liberation: caching, new cache contents: 16 fonts, 0 dirs\n",
            "/usr/share/fonts/truetype/nanum: caching, new cache contents: 10 fonts, 0 dirs\n",
            "/usr/local/share/fonts: caching, new cache contents: 0 fonts, 0 dirs\n",
            "/root/.local/share/fonts: skipping, no such directory\n",
            "/root/.fonts: skipping, no such directory\n",
            "/var/cache/fontconfig: cleaning cache directory\n",
            "/root/.cache/fontconfig: not cleaning non-existent cache directory\n",
            "/root/.fontconfig: not cleaning non-existent cache directory\n",
            "fc-cache: succeeded\n"
          ]
        }
      ]
    },
    {
      "cell_type": "code",
      "source": [
        "#Orbit of Mars\n",
        "\n",
        "import numpy as np\n",
        "import math\n",
        "import matplotlib.pyplot as plt\n",
        "\n",
        "\n",
        "result=np.empty((1,4), dtype=float)\n",
        "result2=np.empty((1,4), dtype=float)\n",
        "\n",
        "def dtd(d, m):\n",
        "    degree=d+float(m)/60\n",
        "    return degree\n",
        "\n",
        "brahe=np.array([[dtd(159,23), dtd(135,12),dtd(115,21),dtd(182,8)],[dtd(5,47), dtd(284,18),dtd(323,26),dtd(346,56)],[dtd(85,53),dtd(3,4),dtd(41,42),dtd(49,42)],[dtd(196,50),dtd(168,12),dtd(153,42),dtd(218,48)],[dtd(179,41),dtd(131,48),dtd(136,6),dtd(184,42)]])\n",
        "hvd=np.array([[180,118,136,168],[210,151,167,204],[121,66,76,123],[178,108,135,153]])\n",
        "\n",
        "for a, b, c, d in hvd:\n",
        "    x=math.radians(a)\n",
        "    y=math.radians(b)\n",
        "    z=math.radians(c)\n",
        "    w=math.radians(d)\n",
        "    x_mars=((math.sin(z)-math.sin(x))+(math.tan(y)*math.cos(x)-math.tan(w)*math.cos(z)))/(math.tan(y)-math.tan(w))\n",
        "    y_mars=math.tan(y)*x_mars+math.sin(x)-math.tan(y)*math.cos(x)\n",
        "    r_mars=math.sqrt(math.pow(x_mars,2)+math.pow(y_mars,2))\n",
        "    t_mars=(180/math.pi)*math.atan2(y_mars,x_mars)\n",
        "   \n",
        "    result=np.append(result,np.array([[x_mars, y_mars, r_mars, t_mars]]),axis=0)\n",
        "\n",
        "for a, b, c, d in brahe:\n",
        "    x=math.radians(a)\n",
        "    y=math.radians(b)\n",
        "    z=math.radians(c)\n",
        "    w=math.radians(d)\n",
        "    x_mars=((math.sin(z)-math.sin(x))+(math.tan(y)*math.cos(x)-math.tan(w)*math.cos(z)))/(math.tan(y)-math.tan(w))\n",
        "    y_mars=math.tan(y)*x_mars+math.sin(x)-math.tan(y)*math.cos(x)\n",
        "    r_mars=math.sqrt(math.pow(x_mars,2)+math.pow(y_mars,2))\n",
        "    t_mars=(180/math.pi)*math.atan2(y_mars,x_mars)\n",
        "   \n",
        "    result2=np.append(result2,np.array([[x_mars, y_mars, r_mars, t_mars]]),axis=0)\n",
        "\n",
        "result=np.delete(result, [0,0,0,0], axis=0)\n",
        "result2=np.delete(result2, [0,0,0,0], axis=0)\n",
        "a=result[:,0]\n",
        "b=result[:,1]\n",
        "c=result2[:,0]\n",
        "d=result2[:,1]\n",
        "e=np.concatenate((a,c),axis=0)\n",
        "f=np.concatenate((b,d),axis=0)\n",
        "plt.figure()\n",
        "plt.scatter(e,f)\n",
        "plt.show()\n",
        "g=np.column_stack((e,f))\n",
        "print(g)"
      ],
      "metadata": {
        "colab": {
          "base_uri": "https://localhost:8080/",
          "height": 506
        },
        "id": "4f8u2SJQcdGa",
        "outputId": "721ac80b-c303-4bd1-cfba-fe58008d044c"
      },
      "execution_count": null,
      "outputs": [
        {
          "output_type": "stream",
          "name": "stderr",
          "text": [
            "/usr/local/lib/python3.7/dist-packages/matplotlib/backends/backend_agg.py:214: RuntimeWarning: Glyph 8722 missing from current font.\n",
            "  font.set_text(s, 0.0, flags=flags)\n",
            "/usr/local/lib/python3.7/dist-packages/matplotlib/backends/backend_agg.py:183: RuntimeWarning: Glyph 8722 missing from current font.\n",
            "  font.set_text(s, 0, flags=flags)\n"
          ]
        },
        {
          "output_type": "display_data",
          "data": {
            "text/plain": [
              "<Figure size 432x288 with 1 Axes>"
            ],
            "image/png": "[encoded data removed]"
          },
          "metadata": {
            "needs_background": "light"
          }
        },
        {
          "output_type": "stream",
          "name": "stdout",
          "text": [
            "[[-1.45218088  0.85042855]\n",
            " [-1.63957219 -0.07121601]\n",
            " [-0.17727322  1.61579959]\n",
            " [-1.31912716  1.01894674]\n",
            " [-1.45297367  0.86553353]\n",
            " [ 1.19567278 -0.68685663]\n",
            " [ 1.07388531  1.05110693]\n",
            " [-1.63230459 -0.1485418 ]\n",
            " [-1.55376733  0.62489899]]\n"
          ]
        }
      ]
    },
    {
      "cell_type": "code",
      "execution_count": null,
      "metadata": {
        "colab": {
          "base_uri": "https://localhost:8080/"
        },
        "id": "9Aazsx6ED_M0",
        "outputId": "cb13c4dc-704c-490a-ef2c-7235c4b47d18"
      },
      "outputs": [
        {
          "output_type": "stream",
          "name": "stdout",
          "text": [
            "0 \t:  -3.2 \t:  10.240000000000002\n",
            "1 \t:  -2.56 \t:  6.5536\n",
            "2 \t:  -2.048 \t:  4.194304\n",
            "3 \t:  -1.6384 \t:  2.68435456\n",
            "4 \t:  -1.31072 \t:  1.7179869184000003\n",
            "5 \t:  -1.0485760000000002 \t:  1.0995116277760004\n",
            "6 \t:  -0.8388608000000002 \t:  0.7036874417766403\n",
            "7 \t:  -0.6710886400000001 \t:  0.45035996273704976\n",
            "8 \t:  -0.5368709120000001 \t:  0.2882303761517119\n",
            "9 \t:  -0.4294967296000001 \t:  0.18446744073709562\n",
            "10 \t:  -0.3435973836800001 \t:  0.11805916207174119\n",
            "11 \t:  -0.27487790694400005 \t:  0.07555786372591435\n",
            "12 \t:  -0.21990232555520003 \t:  0.04835703278458518\n",
            "13 \t:  -0.17592186044416003 \t:  0.030948500982134516\n",
            "14 \t:  -0.140737488355328 \t:  0.019807040628566086\n",
            "15 \t:  -0.11258999068426241 \t:  0.012676506002282296\n",
            "16 \t:  -0.09007199254740993 \t:  0.00811296384146067\n",
            "17 \t:  -0.07205759403792794 \t:  0.005192296858534828\n",
            "18 \t:  -0.057646075230342354 \t:  0.0033230699894622904\n",
            "19 \t:  -0.04611686018427388 \t:  0.0021267647932558657\n"
          ]
        }
      ],
      "source": [
        "#Gradient Descent Method\n",
        "\n",
        "def func(x):\n",
        "    func=x**2\n",
        "    return func\n",
        "\n",
        "def der_of_func(x):\n",
        "    der_of_func=2*x\n",
        "    return der_of_func\n",
        "\n",
        "step=0.1\n",
        "x=-4\n",
        "for i in range(20):\n",
        "    x=x-step*der_of_func(x)\n",
        "    print(i, \"\\t: \",x,\"\\t: \", func(x))"
      ]
    },
    {
      "cell_type": "code",
      "source": [
        "#Monte Carlo Method\n",
        "\n",
        "import random\n",
        "\n",
        "def func(x): \n",
        "    func=x*(x-1)*(x-2)*(x-4)\n",
        "    return func\n",
        "\n",
        "local_minima_y=100000\n",
        "local_minima_x=100000\n",
        "range_max=10\n",
        "center_num=5\n",
        "\n",
        "for i in range(100):\n",
        "    s=range_max*random.uniform(0,1)-center_num\n",
        "\n",
        "    if local_minima_y>func(s):\n",
        "        local_minima_y=func(s)\n",
        "        local_minima_x=s\n",
        "        print(i, \"\\t: \", s, \"\\t: \", local_minima_y)\n",
        "\n"
      ],
      "metadata": {
        "colab": {
          "base_uri": "https://localhost:8080/"
        },
        "id": "l_HfYBl3H9_X",
        "outputId": "f0fecbd5-5724-40dd-a677-5cecb3777d87"
      },
      "execution_count": null,
      "outputs": [
        {
          "output_type": "stream",
          "name": "stdout",
          "text": [
            "0 \t:  0.45758447282440784 \t:  -1.3561392435783353\n",
            "8 \t:  2.6352544437381162 \t:  -3.7360036591171206\n",
            "21 \t:  2.8287121097398362 \t:  -5.021129573958698\n",
            "30 \t:  2.866359141779683 \t:  -5.254111386468621\n",
            "41 \t:  3.231559821876173 \t:  -6.824743123050382\n"
          ]
        }
      ]
    },
    {
      "cell_type": "code",
      "source": [
        "#Assignment 2-1\n",
        "\n",
        "import random\n",
        "\n",
        "def func(x): \n",
        "    func=x*(x-1)*(x-2)*(x-4)\n",
        "    return func\n",
        "\n",
        "def der_of_func(x):\n",
        "    der_of_func=28*x-21*x**2+4*x**3-8\n",
        "    return der_of_func\n",
        "\n",
        "local_minima_y=100000\n",
        "local_minima_x=100000\n",
        "range_max=10\n",
        "center_num=5 \n",
        "#주어진 함수는 다항함수로 함수의 최적값의 범위를 알고 있다는 가정하에 범위를 잡았습니다.\n",
        "step=0.01\n",
        "\n",
        "for i in range(100):\n",
        "    s=range_max*random.uniform(0,1)-center_num\n",
        "\n",
        "    if local_minima_y>func(s):\n",
        "        local_minima_y=func(s)\n",
        "        local_minima_x=s\n",
        "        print(i, \"\\t: \", s, \"\\t: \", local_minima_y)\n",
        "\n",
        "for i in range(100):\n",
        "    local_minima_x=local_minima_x-step*der_of_func(local_minima_x)\n",
        "    print(i, \"\\t: \", local_minima_x, \"\\t: \", func(local_minima_x))"
      ],
      "metadata": {
        "id": "hdYP9W7U8rx2",
        "colab": {
          "base_uri": "https://localhost:8080/"
        },
        "outputId": "9c3b8850-c86f-4dd5-c7aa-351a37d6c879"
      },
      "execution_count": null,
      "outputs": [
        {
          "output_type": "stream",
          "name": "stdout",
          "text": [
            "0 \t:  2.375619584299015 \t:  -1.9939360229499181\n",
            "1 \t:  2.87708518302963 \t:  -5.318942418125315\n",
            "8 \t:  3.363827051782506 \t:  -6.898963632161296\n",
            "0 \t:  3.3556624347902764 \t:  -6.904883193810106\n",
            "1 \t:  3.34932223447642 \t:  -6.908458688507221\n",
            "2 \t:  3.3443810513761125 \t:  -6.910633104411711\n",
            "3 \t:  3.340519479548911 \t:  -6.9119624456019055\n",
            "4 \t:  3.337495126965023 \t:  -6.912778475779367\n",
            "5 \t:  3.3351225023920854 \t:  -6.913281003204149\n",
            "6 \t:  3.3332587230683846 \t:  -6.913591240910752\n",
            "7 \t:  3.331793157385771 \t:  -6.91378314141388\n",
            "8 \t:  3.330639796212273 \t:  -6.913902024979658\n",
            "9 \t:  3.3297315582879423 \t:  -6.9139757626165155\n",
            "10 \t:  3.3290159925229523 \t:  -6.914021541668556\n",
            "11 \t:  3.3284520054745785 \t:  -6.9140499841289\n",
            "12 \t:  3.3280073513899486 \t:  -6.914067665734454\n",
            "13 \t:  3.327656695876917 \t:  -6.914078662791498\n",
            "14 \t:  3.3273801151027103 \t:  -6.914085504886151\n",
            "15 \t:  3.3271619281965155 \t:  -6.9140897630866025\n",
            "16 \t:  3.3269897861601883 \t:  -6.914092413790671\n",
            "17 \t:  3.326853959240794 \t:  -6.9140940641320086\n",
            "18 \t:  3.326746778478306 \t:  -6.914095091787062\n",
            "19 \t:  3.3266621974150095 \t:  -6.914095731771055\n",
            "20 \t:  3.326595447701464 \t:  -6.914096130363319\n",
            "21 \t:  3.3265427682276765 \t:  -6.914096378630098\n",
            "22 \t:  3.326501191923256 \t:  -6.914096533273721\n",
            "23 \t:  3.3264683778493747 \t:  -6.914096629604287\n",
            "24 \t:  3.3264424788990086 \t:  -6.914096689612532\n",
            "25 \t:  3.3264220375154765 \t:  -6.914096726995122\n",
            "26 \t:  3.3264059034715943 \t:  -6.914096750283381\n",
            "27 \t:  3.326393169027594 \t:  -6.914096764791527\n",
            "28 \t:  3.3263831177851895 \t:  -6.914096773829947\n",
            "29 \t:  3.326375184339052 \t:  -6.914096779460845\n",
            "30 \t:  3.3263689224426236 \t:  -6.914096782968898\n",
            "31 \t:  3.326363979889338 \t:  -6.914096785154435\n",
            "32 \t:  3.3263600786912173 \t:  -6.914096786516041\n",
            "33 \t:  3.3263569994368 \t:  -6.914096787364336\n",
            "34 \t:  3.3263545689466447 \t:  -6.914096787892833\n",
            "35 \t:  3.326352650530887 \t:  -6.914096788222096\n",
            "36 \t:  3.326351136300168 \t:  -6.914096788427231\n",
            "37 \t:  3.3263499410970185 \t:  -6.914096788555034\n",
            "38 \t:  3.3263489977061083 \t:  -6.914096788634658\n",
            "39 \t:  3.326348253073812 \t:  -6.914096788684265\n",
            "40 \t:  3.3263476653243695 \t:  -6.914096788715171\n",
            "41 \t:  3.3263472014047695 \t:  -6.914096788734425\n",
            "42 \t:  3.326346835225861 \t:  -6.914096788746422\n",
            "43 \t:  3.3263465461951327 \t:  -6.914096788753895\n",
            "44 \t:  3.3263463180586315 \t:  -6.914096788758552\n",
            "45 \t:  3.326346137986879 \t:  -6.914096788761452\n",
            "46 \t:  3.32634599585338 \t:  -6.91409678876326\n",
            "47 \t:  3.3263458836651396 \t:  -6.914096788764386\n",
            "48 \t:  3.3263457951131645 \t:  -6.914096788765088\n",
            "49 \t:  3.326345725217669 \t:  -6.914096788765526\n",
            "50 \t:  3.32634567004803 \t:  -6.914096788765797\n",
            "51 \t:  3.326345626501745 \t:  -6.914096788765967\n",
            "52 \t:  3.3263455921299605 \t:  -6.914096788766073\n",
            "53 \t:  3.3263455649997553 \t:  -6.914096788766138\n",
            "54 \t:  3.3263455435854463 \t:  -6.91409678876618\n",
            "55 \t:  3.3263455266827866 \t:  -6.914096788766204\n",
            "56 \t:  3.326345513341244 \t:  -6.914096788766221\n",
            "57 \t:  3.326345502810548 \t:  -6.914096788766231\n",
            "58 \t:  3.3263454944985 \t:  -6.914096788766237\n",
            "59 \t:  3.3263454879376657 \t:  -6.91409678876624\n",
            "60 \t:  3.326345482759093 \t:  -6.914096788766243\n",
            "61 \t:  3.326345478671562 \t:  -6.914096788766244\n",
            "62 \t:  3.326345475445207 \t:  -6.914096788766247\n",
            "63 \t:  3.3263454728985935 \t:  -6.914096788766246\n",
            "64 \t:  3.32634547088851 \t:  -6.914096788766247\n",
            "65 \t:  3.326345469301918 \t:  -6.914096788766247\n",
            "66 \t:  3.326345468049596 \t:  -6.914096788766247\n",
            "67 \t:  3.3263454670611177 \t:  -6.914096788766247\n",
            "68 \t:  3.3263454662808956 \t:  -6.914096788766247\n",
            "69 \t:  3.326345465665054 \t:  -6.914096788766246\n",
            "70 \t:  3.3263454651789597 \t:  -6.914096788766246\n",
            "71 \t:  3.3263454647952777 \t:  -6.914096788766247\n",
            "72 \t:  3.3263454644924315 \t:  -6.914096788766248\n",
            "73 \t:  3.3263454642533903 \t:  -6.914096788766246\n",
            "74 \t:  3.326345464064711 \t:  -6.914096788766248\n",
            "75 \t:  3.3263454639157835 \t:  -6.914096788766247\n",
            "76 \t:  3.3263454637982326 \t:  -6.914096788766247\n",
            "77 \t:  3.3263454637054477 \t:  -6.914096788766247\n",
            "78 \t:  3.3263454636322107 \t:  -6.914096788766246\n",
            "79 \t:  3.3263454635744036 \t:  -6.914096788766247\n",
            "80 \t:  3.3263454635287757 \t:  -6.914096788766247\n",
            "81 \t:  3.326345463492761 \t:  -6.914096788766246\n",
            "82 \t:  3.326345463464334 \t:  -6.914096788766247\n",
            "83 \t:  3.3263454634418954 \t:  -6.914096788766246\n",
            "84 \t:  3.3263454634241847 \t:  -6.914096788766247\n",
            "85 \t:  3.3263454634102056 \t:  -6.914096788766247\n",
            "86 \t:  3.326345463399172 \t:  -6.914096788766247\n",
            "87 \t:  3.3263454633904623 \t:  -6.914096788766247\n",
            "88 \t:  3.326345463383588 \t:  -6.914096788766247\n",
            "89 \t:  3.326345463378162 \t:  -6.914096788766248\n",
            "90 \t:  3.3263454633738787 \t:  -6.914096788766246\n",
            "91 \t:  3.326345463370498 \t:  -6.914096788766247\n",
            "92 \t:  3.3263454633678298 \t:  -6.914096788766248\n",
            "93 \t:  3.3263454633657235 \t:  -6.914096788766246\n",
            "94 \t:  3.3263454633640612 \t:  -6.914096788766247\n",
            "95 \t:  3.3263454633627485 \t:  -6.914096788766247\n",
            "96 \t:  3.326345463361713 \t:  -6.914096788766248\n",
            "97 \t:  3.3263454633608953 \t:  -6.914096788766247\n",
            "98 \t:  3.32634546336025 \t:  -6.914096788766247\n",
            "99 \t:  3.326345463359741 \t:  -6.914096788766247\n"
          ]
        }
      ]
    },
    {
      "cell_type": "code",
      "source": [
        "#Assignment 2-2(1)\n",
        "\n",
        "import numpy as np\n",
        "import matplotlib.pyplot as plt\n",
        "plt.rc('font', family='NanumBarunGothic') \n",
        "w=1.0\n",
        "b=1.0\n",
        "step=0.0003 #많은 step을 대입하여 최적 회귀에 가까운 값을 넣었습니다. \n",
        "data=np.genfromtxt('/content/Apartment_Data.csv', skip_header=1,delimiter=',')\n",
        "print(data)\n",
        "sum_w, sum_b = 0, 0\n",
        "\n",
        "row, column=data.shape\n",
        "\n",
        "for i in range(100):\n",
        "    for x, y in data: \n",
        "        sum_w=sum_w+x*(w*x+b-y)\n",
        "        sum_b=sum_b+w*x+b-y\n",
        "        err_w=sum_w/row\n",
        "        err_b=sum_b/row \n",
        "    w=w-step*err_w\n",
        "    b=b-step*err_b\n",
        "\n",
        "print(f\"Affline Function: {w}x+{b}\")\n",
        "\n",
        "money=data[:,0]\n",
        "size=data[:,1]\n",
        "x=np.array([np.min(money),np.max(money)])\n",
        "plt.plot(x,w*x+b, 'r-')\n",
        "plt.scatter(money, size)\n",
        "plt.xlabel('가격(단위: 억)')\n",
        "plt.ylabel('넓이(단위: 제곱미터)')\n",
        "plt.show()\n",
        "\n"
      ],
      "metadata": {
        "id": "Q_d9cUCs_xct",
        "colab": {
          "base_uri": "https://localhost:8080/",
          "height": 789
        },
        "outputId": "34892198-a8d7-42d3-cbe3-749d4fa8b26d"
      },
      "execution_count": null,
      "outputs": [
        {
          "output_type": "stream",
          "name": "stdout",
          "text": [
            "[[ 39.   126.  ]\n",
            " [ 37.   115.  ]\n",
            " [ 14.5   64.  ]\n",
            " [ 31.   108.  ]\n",
            " [ 21.   104.  ]\n",
            " [ 35.   117.  ]\n",
            " [ 27.5  109.  ]\n",
            " [ 19.5   73.  ]\n",
            " [ 36.5  116.  ]\n",
            " [ 23.   163.  ]\n",
            " [ 42.5  160.  ]\n",
            " [ 24.4   57.  ]\n",
            " [ 31.   166.  ]\n",
            " [ 34.   111.  ]\n",
            " [ 26.    88.  ]\n",
            " [ 26.    94.  ]\n",
            " [ 18.    58.  ]\n",
            " [ 37.5  109.  ]\n",
            " [ 25.7  109.  ]\n",
            " [ 32.   153.  ]\n",
            " [ 19.    57.  ]\n",
            " [ 18.5   77.  ]\n",
            " [ 25.   101.  ]\n",
            " [ 30.   112.  ]\n",
            " [  8.5   48.  ]\n",
            " [ 30.    80.  ]\n",
            " [ 41.   112.  ]\n",
            " [ 28.   108.  ]\n",
            " [ 36.75 113.  ]]\n",
            "Affline Function: 3.1582606989342743x+4.755004420797566\n"
          ]
        },
        {
          "output_type": "display_data",
          "data": {
            "text/plain": [
              "<Figure size 432x288 with 1 Axes>"
            ],
            "image/png": "[encoded data removed]"
          },
          "metadata": {
            "needs_background": "light"
          }
        }
      ]
    },
    {
      "cell_type": "code",
      "source": [
        "#Assignment 2-2(2)\n",
        "\n",
        "import numpy as np\n",
        "import matplotlib.pyplot as plt\n",
        "from sklearn.linear_model import LinearRegression\n",
        "\n",
        "plt.rc('font', family='NanumBarunGothic') \n",
        "data=np.genfromtxt('/content/Apartment_Data.csv', skip_header=1,delimiter=',')\n",
        "money=data[:,0]\n",
        "size=data[:,1]\n",
        "\n",
        "model=LinearRegression()\n",
        "model.fit(money.reshape(-1,1), size.reshape(-1,1))\n",
        "\n",
        "plt.scatter(money, size)\n",
        "plt.plot(money, model.predict(money.reshape(-1,1)), 'b-')\n",
        "plt.show()\n",
        "\n"
      ],
      "metadata": {
        "colab": {
          "base_uri": "https://localhost:8080/",
          "height": 265
        },
        "id": "8TbqNpMmitPU",
        "outputId": "77a836cb-3eae-4328-c432-e88c9208b5a6"
      },
      "execution_count": null,
      "outputs": [
        {
          "output_type": "display_data",
          "data": {
            "text/plain": [
              "<Figure size 432x288 with 1 Axes>"
            ],
            "image/png": "[encoded data removed]"
          },
          "metadata": {
            "needs_background": "light"
          }
        }
      ]
    },
    {
      "cell_type": "code",
      "source": [
        "#Circle Fitting Install\n",
        "\n",
        "!pip install --target=$my_path circle-fit"
      ],
      "metadata": {
        "colab": {
          "base_uri": "https://localhost:8080/"
        },
        "id": "zM6XKrURZedb",
        "outputId": "c574a07c-d84d-49d1-bd76-3d45d162ed04"
      },
      "execution_count": null,
      "outputs": [
        {
          "output_type": "stream",
          "name": "stdout",
          "text": [
            "Collecting circle-fit\n",
            "  Downloading circle-fit-0.1.3.tar.gz (2.6 kB)\n",
            "Requirement already satisfied: numpy in /usr/local/lib/python3.7/dist-packages (from circle-fit) (1.21.5)\n",
            "Requirement already satisfied: scipy in /usr/local/lib/python3.7/dist-packages (from circle-fit) (1.4.1)\n",
            "Requirement already satisfied: matplotlib in /usr/local/lib/python3.7/dist-packages (from circle-fit) (3.2.2)\n",
            "Requirement already satisfied: kiwisolver>=1.0.1 in /usr/local/lib/python3.7/dist-packages (from matplotlib->circle-fit) (1.3.2)\n",
            "Requirement already satisfied: cycler>=0.10 in /usr/local/lib/python3.7/dist-packages (from matplotlib->circle-fit) (0.11.0)\n",
            "Requirement already satisfied: python-dateutil>=2.1 in /usr/local/lib/python3.7/dist-packages (from matplotlib->circle-fit) (2.8.2)\n",
            "Requirement already satisfied: pyparsing!=2.0.4,!=2.1.2,!=2.1.6,>=2.0.1 in /usr/local/lib/python3.7/dist-packages (from matplotlib->circle-fit) (3.0.7)\n",
            "Requirement already satisfied: six>=1.5 in /usr/local/lib/python3.7/dist-packages (from python-dateutil>=2.1->matplotlib->circle-fit) (1.15.0)\n",
            "Building wheels for collected packages: circle-fit\n",
            "  Building wheel for circle-fit (setup.py) ... \u001b[?25l\u001b[?25hdone\n",
            "  Created wheel for circle-fit: filename=circle_fit-0.1.3-py3-none-any.whl size=3482 sha256=02a1dc68f839b1a9e2a7c6a529fc7da1793629b8a2e360333f83fe9c276687f6\n",
            "  Stored in directory: /root/.cache/pip/wheels/67/ff/bd/b5c2bbb2c7d2d09acc322a5f3bf9666b1121b0e17c0b31f5a2\n",
            "Successfully built circle-fit\n",
            "Installing collected packages: circle-fit\n",
            "Successfully installed circle-fit-0.1.3\n"
          ]
        }
      ]
    },
    {
      "cell_type": "code",
      "source": [
        "#Assignment 2-3\n",
        "\n",
        "import numpy as np\n",
        "import circle_fit as cf\n",
        "\n",
        "data_1=np.array([[-1.45218088,  0.85042855],\n",
        " [-1.63957219, -0.07121601],\n",
        " [-0.17727322 , 1.61579959],\n",
        " [-1.31912716  ,1.01894674],\n",
        " [-1.45297367 , 0.86553353],\n",
        " [ 1.19567278 ,-0.68685663],\n",
        " [ 1.07388531 , 1.05110693],\n",
        " [-1.63230459 ,-0.1485418 ],\n",
        " [-1.55376733 , 0.62489899]])\n",
        "\n",
        "circle=cf.hyper_fit(data_1)\n",
        "xc, yc, r, s=circle\n",
        "cf.plot_data_circle(e, f, xc, yc, r)"
      ],
      "metadata": {
        "id": "n6DNhKFg_uO_",
        "colab": {
          "base_uri": "https://localhost:8080/",
          "height": 382
        },
        "outputId": "16fad6be-00c1-4449-e6e8-942b30e7411e"
      },
      "execution_count": null,
      "outputs": [
        {
          "output_type": "stream",
          "name": "stderr",
          "text": [
            "/usr/local/lib/python3.7/dist-packages/matplotlib/backends/backend_agg.py:214: RuntimeWarning: Glyph 8722 missing from current font.\n",
            "  font.set_text(s, 0.0, flags=flags)\n",
            "/usr/local/lib/python3.7/dist-packages/matplotlib/backends/backend_agg.py:183: RuntimeWarning: Glyph 8722 missing from current font.\n",
            "  font.set_text(s, 0, flags=flags)\n"
          ]
        },
        {
          "output_type": "display_data",
          "data": {
            "text/plain": [
              "<Figure size 432x288 with 1 Axes>"
            ],
            "image/png": "[encoded data removed]"
          },
          "metadata": {}
        }
      ]
    },
    {
      "cell_type": "code",
      "source": [
        "#Curve Fitting, Circle Fitting"
      ],
      "metadata": {
        "id": "BnwkygTT_puO"
      },
      "execution_count": null,
      "outputs": []
    }
  ]
}