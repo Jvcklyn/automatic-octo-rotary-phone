{
  "nbformat": 4,
  "nbformat_minor": 0,
  "metadata": {
    "colab": {
      "name": "Programming Foundation",
      "provenance": [],
      "collapsed_sections": []
    },
    "kernelspec": {
      "name": "python3",
      "display_name": "Python 3"
    },
    "language_info": {
      "name": "python"
    }
  },
  "cells": [
    {
      "cell_type": "markdown",
      "source": [
        "Abstraction\n",
        "\n",
        "운영체제 - 앱의 연속성을 보장하여 운영체제 등을 몰라도 Python Interpreter을 통해서 프로그래밍이 가능하다.\n",
        "\n"
      ],
      "metadata": {
        "id": "uAwA1JINkA_Z"
      }
    },
    {
      "cell_type": "code",
      "execution_count": null,
      "metadata": {
        "id": "IJofnArbY6Xc"
      },
      "outputs": [],
      "source": [
        "def convert_to_fahrenheit(celsius):\n",
        "    return celsius*9/5+32"
      ]
    },
    {
      "cell_type": "code",
      "source": [
        "def convert_to_celsius(fahrenheit):\n",
        "    return (fahrenheit-32)*5/9"
      ],
      "metadata": {
        "id": "Av3CBYZAmcl-"
      },
      "execution_count": null,
      "outputs": []
    },
    {
      "cell_type": "markdown",
      "source": [
        "call by value: same memory space\n",
        "\n",
        "\n",
        "builtin namespace: all builtin names are stored\n",
        "\n",
        "if the global namespace has the same name w/ builtin namespace, the builtin will be ignored\n",
        "\n",
        "function design:\n",
        "making test cases is needed. \n"
      ],
      "metadata": {
        "id": "-MmrsTUHr5VO"
      }
    },
    {
      "cell_type": "code",
      "source": [
        ""
      ],
      "metadata": {
        "id": "ziD5zl-br-Ma"
      },
      "execution_count": null,
      "outputs": []
    }
  ]
}